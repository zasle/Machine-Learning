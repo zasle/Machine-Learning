{
 "cells": [
  {
   "cell_type": "code",
   "execution_count": 13,
   "metadata": {},
   "outputs": [
    {
     "data": {
      "text/plain": [
       "array([[14.49412114, 12.37059832, 13.11980341, 10.76157212, 14.245108  ],\n",
       "       [13.22830011, 12.01749795, 11.02090057, 10.64297338, 13.79575407],\n",
       "       [11.04347467, 14.39160388, 10.15996402, 10.37777733, 10.63542052]])"
      ]
     },
     "execution_count": 13,
     "metadata": {},
     "output_type": "execute_result"
    }
   ],
   "source": [
    "import numpy as np\n",
    "# 生成数据\n",
    "data = np.random.rand(3,5)*5 + 10\n",
    "data"
   ]
  },
  {
   "cell_type": "code",
   "execution_count": 14,
   "metadata": {},
   "outputs": [
    {
     "data": {
      "text/plain": [
       "array([[ 2.30093379,  1.7454179 , -0.30716866],\n",
       "       [ 1.7454179 ,  1.85859795,  0.22450088],\n",
       "       [-0.30716866,  0.22450088,  3.0533298 ]])"
      ]
     },
     "execution_count": 14,
     "metadata": {},
     "output_type": "execute_result"
    }
   ],
   "source": [
    "# 中心化\n",
    "data_mean = np.mean(data,1)\n",
    "X = data - data_mean.reshape(3,1)\n",
    "# 计算协方差矩阵\n",
    "cov = np.dot(X , X.T) /(X.shape[1]-1)\n",
    "cov"
   ]
  },
  {
   "cell_type": "code",
   "execution_count": 15,
   "metadata": {},
   "outputs": [
    {
     "data": {
      "text/plain": [
       "(array([0.27075376, 3.84804291, 3.09406487]),\n",
       " array([[-0.65762722,  0.75332049, -0.00588872],\n",
       "        [ 0.74161235,  0.64874089,  0.17072312],\n",
       "        [-0.13242948, -0.10790503,  0.98530145]]))"
      ]
     },
     "execution_count": 15,
     "metadata": {},
     "output_type": "execute_result"
    }
   ],
   "source": [
    "# 求特征向量和特征值\n",
    "val , vec = np.linalg.eig(cov)\n",
    "val , vec"
   ]
  },
  {
   "cell_type": "code",
   "execution_count": 16,
   "metadata": {},
   "outputs": [],
   "source": [
    "# 按贡献排序\n",
    "contri = val/np.sum(val)\n",
    "index = np.argsort(contri)[::-1]"
   ]
  },
  {
   "cell_type": "code",
   "execution_count": 17,
   "metadata": {},
   "outputs": [
    {
     "name": "stdout",
     "output_type": "stream",
     "text": [
      "投影矩阵：\n",
      "[[ 0.75332049 -0.00588872 -0.65762722]\n",
      " [ 0.64874089  0.17072312  0.74161235]\n",
      " [-0.10790503  0.98530145 -0.13242948]]\n"
     ]
    }
   ],
   "source": [
    "# 输出投影矩阵\n",
    "W = vec[:,index]\n",
    "print('投影矩阵：\\n' + str(W))"
   ]
  },
  {
   "cell_type": "markdown",
   "metadata": {},
   "source": [
    "# 验证"
   ]
  },
  {
   "cell_type": "code",
   "execution_count": 18,
   "metadata": {},
   "outputs": [
    {
     "data": {
      "text/plain": [
       "PCA(copy=True, iterated_power='auto', n_components=3, random_state=None,\n",
       "  svd_solver='auto', tol=0.0, whiten=False)"
      ]
     },
     "execution_count": 18,
     "metadata": {},
     "output_type": "execute_result"
    }
   ],
   "source": [
    "from sklearn import decomposition\n",
    "pca = decomposition.PCA(n_components=3)\n",
    "pca.fit(data.T)"
   ]
  },
  {
   "cell_type": "code",
   "execution_count": 19,
   "metadata": {
    "scrolled": true
   },
   "outputs": [
    {
     "name": "stdout",
     "output_type": "stream",
     "text": [
      "计算得到的协方差矩：\n",
      "[[ 2.30093379  1.7454179  -0.30716866]\n",
      " [ 1.7454179   1.85859795  0.22450088]\n",
      " [-0.30716866  0.22450088  3.0533298 ]]\n",
      "PCA库函数计算协方差矩阵：\n",
      "[[ 2.30093379  1.7454179  -0.30716866]\n",
      " [ 1.7454179   1.85859795  0.22450088]\n",
      " [-0.30716866  0.22450088  3.0533298 ]]\n"
     ]
    }
   ],
   "source": [
    "# 验证协方差矩阵\n",
    "print('计算得到的协方差矩：\\n' + str(cov))\n",
    "print('PCA库函数计算协方差矩阵：\\n' + str(pca.get_covariance()))\n"
   ]
  },
  {
   "cell_type": "code",
   "execution_count": 20,
   "metadata": {},
   "outputs": [
    {
     "name": "stdout",
     "output_type": "stream",
     "text": [
      "计算得到的特征值：\n",
      "[3.84804291 3.09406487 0.27075376]\n",
      "PCA库函数计算特征值：\n",
      "[3.84804291 3.09406487 0.27075376]\n"
     ]
    }
   ],
   "source": [
    "# 验证特征值\n",
    "print('计算得到的特征值：\\n' + str(val[index]))\n",
    "print('PCA库函数计算特征值：\\n' + str(pca.explained_variance_))\n",
    "\n"
   ]
  },
  {
   "cell_type": "code",
   "execution_count": 21,
   "metadata": {},
   "outputs": [
    {
     "name": "stdout",
     "output_type": "stream",
     "text": [
      "计算得到的贡献率：\n",
      "[0.5334974  0.42896496 0.03753763]\n",
      "PCA库函数计算贡献率：\n",
      "[0.5334974  0.42896496 0.03753763]\n"
     ]
    }
   ],
   "source": [
    "# 验证贡献率\n",
    "print('计算得到的贡献率：\\n' + str(contri[index]))\n",
    "print('PCA库函数计算贡献率：\\n' + str(pca.explained_variance_ratio_))"
   ]
  },
  {
   "cell_type": "code",
   "execution_count": 22,
   "metadata": {},
   "outputs": [
    {
     "name": "stdout",
     "output_type": "stream",
     "text": [
      "计算得到的投影矩阵：\n",
      "[[-0.75332049 -0.00588872  0.65762722]\n",
      " [-0.64874089  0.17072312 -0.74161235]\n",
      " [ 0.10790503  0.98530145  0.13242948]]\n",
      "PCA库函数计算投影矩阵：\n",
      "[[ 0.75332049 -0.00588872 -0.65762722]\n",
      " [ 0.64874089  0.17072312  0.74161235]\n",
      " [-0.10790503  0.98530145 -0.13242948]]\n"
     ]
    }
   ],
   "source": [
    "# 验证投影矩阵\n",
    "print('计算得到的投影矩阵：\\n' + str(pca.components_.T))\n",
    "print('PCA库函数计算投影矩阵：\\n' + str(W))"
   ]
  },
  {
   "cell_type": "markdown",
   "metadata": {},
   "source": [
    "可以看到两者的计算结果相同"
   ]
  }
 ],
 "metadata": {
  "kernelspec": {
   "display_name": "Python 3",
   "language": "python",
   "name": "python3"
  },
  "language_info": {
   "codemirror_mode": {
    "name": "ipython",
    "version": 3
   },
   "file_extension": ".py",
   "mimetype": "text/x-python",
   "name": "python",
   "nbconvert_exporter": "python",
   "pygments_lexer": "ipython3",
   "version": "3.6.5"
  }
 },
 "nbformat": 4,
 "nbformat_minor": 2
}
